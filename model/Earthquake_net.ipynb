{
 "cells": [
  {
   "cell_type": "code",
   "execution_count": 1,
   "metadata": {},
   "outputs": [],
   "source": [
    "import torch\n",
    "import torch.nn as nn   \n",
    "import math\n",
    "import numpy as np\n",
    "import torch.nn.functional as F\n",
    "import torch.nn.init as init\n",
    "from functools import partial\n",
    "from logging import getLogger\n",
    "from ES_net import ES_net"
   ]
  },
  {
   "cell_type": "code",
   "execution_count": 2,
   "metadata": {},
   "outputs": [],
   "source": [
    "gnss_feature_dim = 4\n",
    "feature_dim = 1\n",
    "embed_dim = 64\n",
    "lape_dim = 8\n",
    "input_window = 2\n",
    "gnss_input_window = 28"
   ]
  },
  {
   "cell_type": "code",
   "execution_count": 4,
   "metadata": {},
   "outputs": [],
   "source": [
    "# 实例化模型\n",
    "model = ES_net(feature_dim=feature_dim, ext_dim=0,gnss_feature_dim=gnss_feature_dim,   \n",
    "                 embed_dim=embed_dim,skip_dim=256, lape_dim=lape_dim, geo_num_heads=4, sem_num_heads=2, t_num_heads=2, \n",
    "                 mlp_ratio=4, qkv_bias=True, drop=0., attn_drop=0., drop_path=0.3, \n",
    "                 s_attn_size=3, t_attn_size=3, enc_depth=6, type_ln=\"pre\", \n",
    "                output_dim=1, input_window=input_window, \n",
    "                 output_window=1,predict_day_class=14, far_mask_delta=0, dtw_delta=50)"
   ]
  },
  {
   "cell_type": "code",
   "execution_count": 7,
   "metadata": {},
   "outputs": [
    {
     "name": "stdout",
     "output_type": "stream",
     "text": [
      "模型输出形状:  torch.Size([2, 10, 1]) torch.Size([2, 10, 14])\n"
     ]
    }
   ],
   "source": [
    "import torch\n",
    "import numpy as np\n",
    "\n",
    "# 模拟输入数据的维度\n",
    "batch_size = 2\n",
    "input_window = 2\n",
    "num_nodes = 10\n",
    "\n",
    "\n",
    "\n",
    "\n",
    "gnss_station_num = 16\n",
    "gnss_input_window = 28\n",
    "\n",
    "\n",
    "# 模拟输入的时间序列数据 x, 形状为 [batch_size, input_window, num_nodes, feature_dim]\n",
    "x = torch.randn(batch_size, input_window, num_nodes, feature_dim)\n",
    "\n",
    "# 模拟 GNSS 数据 gnss_data, 形状为 [batch_size, gnss_input_window, gnss_station_num, gnss_feature_dim]\n",
    "gnss_data = torch.randn(batch_size, gnss_input_window, gnss_station_num, gnss_feature_dim)\n",
    "\n",
    "# 模拟拉普拉斯矩阵 lap_mx，形状为 [num_nodes, lape_dim]\n",
    "lap_mx = torch.randn(batch_size,num_nodes, lape_dim)\n",
    "gnss_lap_mx = torch.randn(batch_size,gnss_station_num, lape_dim)\n",
    "\n",
    "# 模拟 DTW 矩阵，形状为 [num_nodes, num_nodes]\n",
    "dtw_matrix = (torch.randn(batch_size,num_nodes, num_nodes)>0.5).bool()\n",
    "\n",
    "# 模拟邻接矩阵 adj_mx，形状为 [num_nodes, num_nodes]\n",
    "adj_mx = (torch.randn(batch_size,num_nodes, num_nodes)>0.5).bool()\n",
    "gnss_adj_mx = (torch.randn(batch_size,gnss_station_num, gnss_station_num)>0.5).bool()\n",
    "\n",
    "energy_predict,predict_day = model(x,gnss_data, lap_mx,gnss_lap_mx,adj_mx,dtw_matrix,gnss_adj_mx)\n",
    "\n",
    "print(\"模型输出形状: \", energy_predict.shape,predict_day.shape)"
   ]
  }
 ],
 "metadata": {
  "kernelspec": {
   "display_name": "lhappy",
   "language": "python",
   "name": "python3"
  },
  "language_info": {
   "codemirror_mode": {
    "name": "ipython",
    "version": 3
   },
   "file_extension": ".py",
   "mimetype": "text/x-python",
   "name": "python",
   "nbconvert_exporter": "python",
   "pygments_lexer": "ipython3",
   "version": "3.10.13"
  }
 },
 "nbformat": 4,
 "nbformat_minor": 2
}
