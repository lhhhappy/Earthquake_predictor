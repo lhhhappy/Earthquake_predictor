{
 "cells": [
  {
   "cell_type": "code",
   "execution_count": 1,
   "metadata": {},
   "outputs": [],
   "source": [
    "from loss import *"
   ]
  },
  {
   "cell_type": "code",
   "execution_count": 2,
   "metadata": {},
   "outputs": [],
   "source": [
    "nnse = NNSELoss()\n",
    "a = torch.randn(2, 500, 1)\n",
    "b = torch.randn(2, 500, 1)\n",
    "print(nnse(a, b))"
   ]
  },
  {
   "cell_type": "code",
   "execution_count": 7,
   "metadata": {},
   "outputs": [
    {
     "name": "stdout",
     "output_type": "stream",
     "text": [
      "tensor(1.2100)\n"
     ]
    }
   ],
   "source": [
    "# Example usage\n",
    "batch_size = 4\n",
    "num = 5\n",
    "logits = torch.randn(batch_size, num, 3)  # Model output logits\n",
    "targets = torch.randint(0, 3, (batch_size, num))  # Ground truth labels\n",
    "\n",
    "# Initialize the custom loss\n",
    "loss_fn = CustomCrossEntropyLoss()\n",
    "\n",
    "# Compute the loss\n",
    "loss = loss_fn(logits, targets)\n",
    "print(loss)"
   ]
  },
  {
   "cell_type": "code",
   "execution_count": null,
   "metadata": {},
   "outputs": [],
   "source": []
  }
 ],
 "metadata": {
  "kernelspec": {
   "display_name": "lhappy",
   "language": "python",
   "name": "python3"
  },
  "language_info": {
   "codemirror_mode": {
    "name": "ipython",
    "version": 3
   },
   "file_extension": ".py",
   "mimetype": "text/x-python",
   "name": "python",
   "nbconvert_exporter": "python",
   "pygments_lexer": "ipython3",
   "version": "3.10.13"
  }
 },
 "nbformat": 4,
 "nbformat_minor": 2
}
