{
 "cells": [
  {
   "cell_type": "code",
   "execution_count": 53,
   "metadata": {},
   "outputs": [],
   "source": [
    "from datetime import datetime\n",
    "import pandas as pd\n",
    "from libcomcat.search import search\n",
    "import matplotlib.pyplot as plt \n",
    "import os\n",
    "import numpy as np\n",
    "import pickle"
   ]
  },
  {
   "cell_type": "code",
   "execution_count": 3,
   "metadata": {},
   "outputs": [],
   "source": [
    "use_grid_id = pickle.load(open('data/use_grid_id.pkl', 'rb'))"
   ]
  },
  {
   "cell_type": "code",
   "execution_count": 8,
   "metadata": {},
   "outputs": [],
   "source": [
    "use_grid_id.sort()\n",
    "use_grid_id_dict = {use_grid_id[i]: i for i in range(len(use_grid_id))}"
   ]
  },
  {
   "cell_type": "code",
   "execution_count": 13,
   "metadata": {},
   "outputs": [],
   "source": [
    "\n",
    "lat_min, lat_max = 32, 36\n",
    "lon_min, lon_max = -120, -114\n",
    "lat_step, lon_step = 0.1, 0.1\n",
    "lat_bins = np.around(np.linspace(lat_min, lat_max, 41),2)\n",
    "lon_bins = np.around(np.linspace(lon_min, lon_max, 61),2)"
   ]
  },
  {
   "cell_type": "code",
   "execution_count": 17,
   "metadata": {},
   "outputs": [],
   "source": [
    "grid = {}\n",
    "for lat in lat_bins[:-1]:\n",
    "    for lon in lon_bins[:-1]:\n",
    "        grid[(lat, lon)] = []\n",
    "area2grid = {}\n",
    "count = 0\n",
    "for lat in lat_bins[:-1]:\n",
    "    for lon in lon_bins[:-1]:\n",
    "        area2grid[(lat, lon)] = count\n",
    "        count += 1\n",
    "grid2area = {v: k for k, v in area2grid.items()}\n"
   ]
  },
  {
   "cell_type": "code",
   "execution_count": 84,
   "metadata": {},
   "outputs": [
    {
     "name": "stdout",
     "output_type": "stream",
     "text": [
      "(8644, 500)\n"
     ]
    }
   ],
   "source": [
    "def construct_earthquake_csv(directory, start_date, end_date, output_file):\n",
    "    data_frames = []\n",
    "    for station_file in os.listdir(directory):\n",
    "        date_range = pd.date_range(start=start_date, end=end_date, freq='D')\n",
    "        df_temp = pd.DataFrame(index=date_range)\n",
    "        file_path = os.path.join(directory, station_file)\n",
    "        if os.path.exists(file_path) and os.path.getsize(file_path) > 0:\n",
    "            try:\n",
    "                df = pd.read_csv(file_path)\n",
    "                if df[\"Location_id\"].iloc[0] in use_grid_id_dict:\n",
    "                    Location_id = df[\"Location_id\"].iloc[0]\n",
    "                    df['Time'] = pd.to_datetime(df['Time'], format='ISO8601').dt.date\n",
    "                    df = df.groupby('Time').agg({'Magnitude': 'max'}).reset_index()\n",
    "                    df.set_index('Time', inplace=True)\n",
    "                    magnitude_series = df['Magnitude'].reindex(date_range).fillna(0)\n",
    "                    df_temp[Location_id] = magnitude_series\n",
    "                    data_frames.append(df_temp)\n",
    "            except pd.errors.EmptyDataError:\n",
    "                continue\n",
    "\n",
    "    df = pd.concat(data_frames, axis=1)    \n",
    "    df = df.sort_index(axis=1)\n",
    "    df.to_csv(output_file)\n",
    "    return df\n",
    "\n",
    "directory = 'data/grid_data'\n",
    "start_date = pd.to_datetime('2001-01-01')\n",
    "end_date = pd.to_datetime('2024-08-31')\n",
    "df = construct_earthquake_csv(directory, start_date, end_date, 'data/earthquake_2001_onwards.csv')"
   ]
  },
  {
   "cell_type": "code",
   "execution_count": 81,
   "metadata": {},
   "outputs": [],
   "source": [
    "def construct_energy_csv(directory,output_file):\n",
    "    data_frames = []\n",
    "    for station_file in os.listdir(directory):\n",
    "        file_path = os.path.join(directory, station_file)\n",
    "        df_temp = pd.DataFrame()\n",
    "        if os.path.exists(file_path) and os.path.getsize(file_path) > 0:\n",
    "            try:\n",
    "                df = pd.read_csv(file_path,index_col=0)\n",
    "                if df[\"Location_id\"].iloc[0] in use_grid_id_dict:\n",
    "                    Location_id = df[\"Location_id\"].iloc[0]\n",
    "                    df_temp[Location_id] = df['Energy']\n",
    "                    df_temp.index = df.index\n",
    "                    data_frames.append(df_temp)\n",
    "            except pd.errors.EmptyDataError:\n",
    "                continue\n",
    "\n",
    "    df = pd.concat(data_frames, axis=1) \n",
    "    df = df.sort_index(axis=1)   \n",
    "    df.to_csv(output_file)\n",
    "    return df\n",
    "directory = 'data/log_energy_data'\n",
    "df = construct_energy_csv(directory,'data/energy_2001_onwards.csv')"
   ]
  }
 ],
 "metadata": {
  "kernelspec": {
   "display_name": "lhappy",
   "language": "python",
   "name": "python3"
  },
  "language_info": {
   "codemirror_mode": {
    "name": "ipython",
    "version": 3
   },
   "file_extension": ".py",
   "mimetype": "text/x-python",
   "name": "python",
   "nbconvert_exporter": "python",
   "pygments_lexer": "ipython3",
   "version": "3.10.13"
  }
 },
 "nbformat": 4,
 "nbformat_minor": 2
}
